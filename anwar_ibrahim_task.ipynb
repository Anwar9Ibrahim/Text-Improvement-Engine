{
 "cells": [
  {
   "cell_type": "code",
   "execution_count": null,
   "metadata": {},
   "outputs": [],
   "source": [
    "pip install -U sentence-transformers"
   ]
  },
  {
   "cell_type": "code",
   "execution_count": 1,
   "metadata": {},
   "outputs": [],
   "source": [
    "import os\n",
    "import re\n",
    "\n",
    "from sentence_transformers import SentenceTransformer, util\n",
    "\n"
   ]
  },
  {
   "attachments": {},
   "cell_type": "markdown",
   "metadata": {},
   "source": [
    "preprocess the input \n",
    "\n",
    "We take the input form a txt file titles \"text.txt\"\n",
    "\n",
    "we read the txt file, and we split it into sentences."
   ]
  },
  {
   "cell_type": "code",
   "execution_count": 2,
   "metadata": {},
   "outputs": [
    {
     "data": {
      "text/plain": [
       "[\"in today's meeting\",\n",
       " ' we discussed a variety of issues affecting our department',\n",
       " ' the weather was unusually sunny',\n",
       " ' a pleasant backdrop to our serious discussions',\n",
       " ' we came to the consensus that we need to do better in terms of performance',\n",
       " ' sally brought doughnuts',\n",
       " ' which lightened the mood',\n",
       " \" it's important to make good use of what we have at our disposal\",\n",
       " ' during the coffee break',\n",
       " ' we talked about the upcoming company picnic',\n",
       " ' we should aim to be more efficient and look for ways to be more creative in our daily tasks',\n",
       " ' growth is essential for our future',\n",
       " ' but equally important is building strong relationships with our team members',\n",
       " ' as a reminder',\n",
       " ' the annual staff survey is due next friday',\n",
       " ' lastly',\n",
       " ' we agreed that we must take time to look over our plans carefully and consider all angles before moving forward',\n",
       " ' on a side note',\n",
       " ' david mentioned that his cat is recovering well from surgery',\n",
       " '\"']"
      ]
     },
     "execution_count": 2,
     "metadata": {},
     "output_type": "execute_result"
    }
   ],
   "source": [
    "directory= os.getcwd()\n",
    "wordsPath= directory + \"/text.txt\"\n",
    "with open(wordsPath, 'r') as file:\n",
    "     contents = file.read()\n",
    "contents= contents.lower()\n",
    "\n",
    "sentences=re.split(r'[,.!?]+', contents)\n",
    "sentences\n"
   ]
  },
  {
   "attachments": {},
   "cell_type": "markdown",
   "metadata": {},
   "source": [
    "preprocess the phrases\n",
    "\n",
    "the list of phrases is also in a txt file titles \"lis.txt\"\n",
    "\n",
    "read from a txt file, and put them into a list of strings."
   ]
  },
  {
   "cell_type": "code",
   "execution_count": 3,
   "metadata": {},
   "outputs": [
    {
     "name": "stdout",
     "output_type": "stream",
     "text": [
      "['Optimal performance', 'Utilise resources', 'Enhance productivity', 'Conduct an analysis', 'Maintain a high standard', 'Implement best practices', 'Ensure compliance', 'Streamline operations', 'Foster innovation', 'Drive growth', 'Leverage synergies', 'Demonstrate leadership', 'Exercise due diligence', 'Maximize stakeholder value', 'Prioritise tasks', 'Facilitate collaboration', 'Monitor performance metrics', 'Execute strategies', 'Gauge effectiveness', 'Champion change']\n"
     ]
    }
   ],
   "source": [
    "directory= os.getcwd()\n",
    "wordsPath= directory + \"/lis.txt\"\n",
    "standardized_phrases= [line.strip() for line in open(wordsPath, 'r')]\n",
    "print(standardized_phrases)"
   ]
  },
  {
   "attachments": {},
   "cell_type": "markdown",
   "metadata": {},
   "source": [
    "prepare the sentence transformer\n",
    "\n",
    "use a predefined model sentence transformer to check similarities."
   ]
  },
  {
   "cell_type": "code",
   "execution_count": 4,
   "metadata": {},
   "outputs": [],
   "source": [
    "model = SentenceTransformer('sentence-transformers/all-MiniLM-L6-v2')"
   ]
  },
  {
   "attachments": {},
   "cell_type": "markdown",
   "metadata": {},
   "source": [
    "create two dicts one to store the embedding of the input sentences and the other is to store the embedding of the standarized sentences"
   ]
  },
  {
   "cell_type": "code",
   "execution_count": 5,
   "metadata": {},
   "outputs": [],
   "source": [
    "standardized_phrases_dict= {}\n",
    "sentences_dict= {}\n",
    "for phrase in standardized_phrases:\n",
    "    standardized_phrases_dict[phrase]= model.encode(phrase, convert_to_tensor=True)\n",
    "\n",
    "for sentence in sentences:\n",
    "    sentences_dict[sentence]=model.encode(sentence, convert_to_tensor=True)\n"
   ]
  },
  {
   "attachments": {},
   "cell_type": "markdown",
   "metadata": {},
   "source": [
    "create the dict similarities to store the similarities between each phrase from the standarized phrases and each sentence form the input."
   ]
  },
  {
   "cell_type": "code",
   "execution_count": 6,
   "metadata": {},
   "outputs": [],
   "source": [
    "similarities= dict()\n",
    "for key_stand,values_stand in standardized_phrases_dict.items():\n",
    "    for key_sent, value_sent in sentences_dict.items():\n",
    "        similarities[str(key_stand)+\"__\"+str(key_sent)]= util.pytorch_cos_sim(values_stand, value_sent)"
   ]
  },
  {
   "attachments": {},
   "cell_type": "markdown",
   "metadata": {},
   "source": [
    "sort the similarities in a descending order \n",
    "the dict sorted_similarities stores the similarities values between each phrase form the standarized phrases and each sentence form the input text."
   ]
  },
  {
   "cell_type": "code",
   "execution_count": 7,
   "metadata": {},
   "outputs": [],
   "source": [
    "sorted_similarities= {k: v for k, v in sorted(similarities.items(), key=lambda item: item[1], reverse=True)}"
   ]
  },
  {
   "attachments": {},
   "cell_type": "markdown",
   "metadata": {},
   "source": [
    "to show my results I will print only the keys and values when similarites greater than threshhold= 0.4 \n",
    "\n",
    "P.S. you can change the threshhold and choose whatever number you want.\n",
    "\n",
    "P.S2. I am prenting in the format \"\"\" 'standarized phrase__ input sentence', tnesor of similarities \"\"\""
   ]
  },
  {
   "cell_type": "code",
   "execution_count": 8,
   "metadata": {},
   "outputs": [
    {
     "data": {
      "text/plain": [
       "['Optimal performance__ we came to the consensus that we need to do better in terms of performance',\n",
       " tensor([[0.5740]]),\n",
       " 'Enhance productivity__ we should aim to be more efficient and look for ways to be more creative in our daily tasks',\n",
       " tensor([[0.5527]]),\n",
       " 'Drive growth__ growth is essential for our future',\n",
       " tensor([[0.5271]]),\n",
       " 'Facilitate collaboration__ but equally important is building strong relationships with our team members',\n",
       " tensor([[0.4949]]),\n",
       " 'Enhance productivity__ we came to the consensus that we need to do better in terms of performance',\n",
       " tensor([[0.4857]]),\n",
       " \"Utilise resources__ it's important to make good use of what we have at our disposal\",\n",
       " tensor([[0.4474]]),\n",
       " 'Foster innovation__ growth is essential for our future',\n",
       " tensor([[0.4377]]),\n",
       " 'Monitor performance metrics__ we came to the consensus that we need to do better in terms of performance',\n",
       " tensor([[0.4195]]),\n",
       " 'Enhance productivity__ growth is essential for our future',\n",
       " tensor([[0.4113]]),\n",
       " 'Conduct an analysis__ we discussed a variety of issues affecting our department',\n",
       " tensor([[0.4027]])]"
      ]
     },
     "execution_count": 8,
     "metadata": {},
     "output_type": "execute_result"
    }
   ],
   "source": [
    "threshhold= 0.4\n",
    "printable=[]\n",
    "for key, value in sorted_similarities.items():\n",
    "    if value > threshhold:\n",
    "        printable +=(key, value)\n",
    "\n",
    "printable"
   ]
  }
 ],
 "metadata": {
  "kernelspec": {
   "display_name": "Python 3",
   "language": "python",
   "name": "python3"
  },
  "language_info": {
   "codemirror_mode": {
    "name": "ipython",
    "version": 3
   },
   "file_extension": ".py",
   "mimetype": "text/x-python",
   "name": "python",
   "nbconvert_exporter": "python",
   "pygments_lexer": "ipython3",
   "version": "3.10.11"
  },
  "orig_nbformat": 4
 },
 "nbformat": 4,
 "nbformat_minor": 2
}
